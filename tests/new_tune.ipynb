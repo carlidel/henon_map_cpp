{
 "cells": [
  {
   "cell_type": "code",
   "execution_count": 33,
   "metadata": {},
   "outputs": [],
   "source": [
    "import numpy as np\n",
    "import pandas as pd\n",
    "import henon_map_cpp as hm\n",
    "import matplotlib.pyplot as plt\n",
    "import time"
   ]
  },
  {
   "cell_type": "code",
   "execution_count": 34,
   "metadata": {},
   "outputs": [],
   "source": [
    "pp = np.array([0.1] * 300 * 300)\n",
    "p = hm.particles(pp, np.zeros_like(pp), pp, np.zeros_like(pp), force_CPU=True)\n",
    "t = hm.henon_tracker(10000, 0.168, 0.201, \"sps\", force_CPU=True)"
   ]
  },
  {
   "cell_type": "code",
   "execution_count": 35,
   "metadata": {},
   "outputs": [],
   "source": [
    "start = time.time()\n",
    "df = t.tune_all(p, 10000, 0.0, from_idx=np.array([0,500]), to_idx=np.array([500,1000]))\n",
    "end = time.time()"
   ]
  },
  {
   "cell_type": "code",
   "execution_count": 36,
   "metadata": {},
   "outputs": [
    {
     "data": {
      "text/html": [
       "<div>\n",
       "<style scoped>\n",
       "    .dataframe tbody tr th:only-of-type {\n",
       "        vertical-align: middle;\n",
       "    }\n",
       "\n",
       "    .dataframe tbody tr th {\n",
       "        vertical-align: top;\n",
       "    }\n",
       "\n",
       "    .dataframe thead th {\n",
       "        text-align: right;\n",
       "    }\n",
       "</style>\n",
       "<table border=\"1\" class=\"dataframe\">\n",
       "  <thead>\n",
       "    <tr style=\"text-align: right;\">\n",
       "      <th></th>\n",
       "      <th>from</th>\n",
       "      <th>to</th>\n",
       "      <th>tune_x_birkhoff</th>\n",
       "      <th>tune_y_birkhoff</th>\n",
       "      <th>tune_x_fft</th>\n",
       "      <th>tune_y_fft</th>\n",
       "    </tr>\n",
       "  </thead>\n",
       "  <tbody>\n",
       "    <tr>\n",
       "      <th>0</th>\n",
       "      <td>0</td>\n",
       "      <td>500</td>\n",
       "      <td>[0.16798682564083922, 0.16798682564083922, 0.1...</td>\n",
       "      <td>[0.20095936914137535, 0.20095936914137535, 0.2...</td>\n",
       "      <td>[0.1679868256269823, 0.1679868256269823, 0.167...</td>\n",
       "      <td>[0.2009593691318312, 0.2009593691318312, 0.200...</td>\n",
       "    </tr>\n",
       "    <tr>\n",
       "      <th>1</th>\n",
       "      <td>500</td>\n",
       "      <td>1000</td>\n",
       "      <td>[0.1679868254113629, 0.1679868254113629, 0.167...</td>\n",
       "      <td>[0.2009593689730026, 0.2009593689730026, 0.200...</td>\n",
       "      <td>[0.1679868254113629, 0.1679868254113629, 0.167...</td>\n",
       "      <td>[0.2009593689730026, 0.2009593689730026, 0.200...</td>\n",
       "    </tr>\n",
       "    <tr>\n",
       "      <th>2</th>\n",
       "      <td>0</td>\n",
       "      <td>10000</td>\n",
       "      <td>[0.1679868254113538, 0.1679868254113538, 0.167...</td>\n",
       "      <td>[0.20095936897299904, 0.20095936897299904, 0.2...</td>\n",
       "      <td>[0.16798682541136156, 0.16798682541136156, 0.1...</td>\n",
       "      <td>[0.20095936897299937, 0.20095936897299937, 0.2...</td>\n",
       "    </tr>\n",
       "  </tbody>\n",
       "</table>\n",
       "</div>"
      ],
      "text/plain": [
       "   from     to                                    tune_x_birkhoff  \\\n",
       "0     0    500  [0.16798682564083922, 0.16798682564083922, 0.1...   \n",
       "1   500   1000  [0.1679868254113629, 0.1679868254113629, 0.167...   \n",
       "2     0  10000  [0.1679868254113538, 0.1679868254113538, 0.167...   \n",
       "\n",
       "                                     tune_y_birkhoff  \\\n",
       "0  [0.20095936914137535, 0.20095936914137535, 0.2...   \n",
       "1  [0.2009593689730026, 0.2009593689730026, 0.200...   \n",
       "2  [0.20095936897299904, 0.20095936897299904, 0.2...   \n",
       "\n",
       "                                          tune_x_fft  \\\n",
       "0  [0.1679868256269823, 0.1679868256269823, 0.167...   \n",
       "1  [0.1679868254113629, 0.1679868254113629, 0.167...   \n",
       "2  [0.16798682541136156, 0.16798682541136156, 0.1...   \n",
       "\n",
       "                                          tune_y_fft  \n",
       "0  [0.2009593691318312, 0.2009593691318312, 0.200...  \n",
       "1  [0.2009593689730026, 0.2009593689730026, 0.200...  \n",
       "2  [0.20095936897299937, 0.20095936897299937, 0.2...  "
      ]
     },
     "execution_count": 36,
     "metadata": {},
     "output_type": "execute_result"
    }
   ],
   "source": [
    "df"
   ]
  },
  {
   "cell_type": "code",
   "execution_count": 14,
   "metadata": {},
   "outputs": [
    {
     "name": "stdout",
     "output_type": "stream",
     "text": [
      "seconds: 38.33006024360657\n"
     ]
    }
   ],
   "source": [
    "print(\"seconds:\", end - start)"
   ]
  },
  {
   "cell_type": "code",
   "execution_count": 41,
   "metadata": {},
   "outputs": [],
   "source": [
    "expected_time = (end - start) / 10000 * 10000000 * (20 / 16)"
   ]
  },
  {
   "cell_type": "code",
   "execution_count": 42,
   "metadata": {},
   "outputs": [
    {
     "name": "stdout",
     "output_type": "stream",
     "text": [
      "expected time: 13 hours 15 minutes 13 seconds\n"
     ]
    }
   ],
   "source": [
    "hours_expected = expected_time / 3600\n",
    "minutes_expected = (hours_expected - int(hours_expected)) * 60\n",
    "seconds_expected = (minutes_expected - int(minutes_expected)) * 60\n",
    "print(\"expected time:\", int(hours_expected), \"hours\", int(minutes_expected), \"minutes\", int(seconds_expected), \"seconds\")"
   ]
  },
  {
   "cell_type": "code",
   "execution_count": 48,
   "metadata": {},
   "outputs": [
    {
     "data": {
      "text/plain": [
       "0    [0.16798682564083922, 0.16798682564083922, 0.1...\n",
       "1    [0.1679868254113629, 0.1679868254113629, 0.167...\n",
       "2    [0.1679868254113538, 0.1679868254113538, 0.167...\n",
       "Name: tune_x_birkhoff, dtype: object"
      ]
     },
     "execution_count": 48,
     "metadata": {},
     "output_type": "execute_result"
    }
   ],
   "source": [
    "df[\"tune_x_birkhoff\"]"
   ]
  },
  {
   "cell_type": "code",
   "execution_count": null,
   "metadata": {},
   "outputs": [],
   "source": []
  }
 ],
 "metadata": {
  "kernelspec": {
   "display_name": "Python 3.9.12 ('base')",
   "language": "python",
   "name": "python3"
  },
  "language_info": {
   "codemirror_mode": {
    "name": "ipython",
    "version": 3
   },
   "file_extension": ".py",
   "mimetype": "text/x-python",
   "name": "python",
   "nbconvert_exporter": "python",
   "pygments_lexer": "ipython3",
   "version": "3.9.12"
  },
  "orig_nbformat": 4,
  "vscode": {
   "interpreter": {
    "hash": "f3023bf899be63b57b0092dfcb418df687710750732f0ded6fe0bfa97468ce8c"
   }
  }
 },
 "nbformat": 4,
 "nbformat_minor": 2
}
