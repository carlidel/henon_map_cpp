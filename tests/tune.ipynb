{
 "cells": [
  {
   "cell_type": "code",
   "execution_count": 1,
   "metadata": {},
   "outputs": [],
   "source": [
    "from henon_map_cpp.henon_map_engine import get_tunes\n",
    "import numpy as np\n",
    "import matplotlib.pyplot as plt"
   ]
  },
  {
   "cell_type": "code",
   "execution_count": 2,
   "metadata": {},
   "outputs": [],
   "source": [
    "base_tune = 0.28\n",
    "def func_signal(samples):\n",
    "    v0 = base_tune\n",
    "    v1 = 0.31\n",
    "    b = 0.25\n",
    "    x = np.sin(2 * np.pi * v0 * np.arange(samples))\n",
    "    px = np.cos(2 * np.pi * v0 * np.arange(samples))\n",
    "\n",
    "    x += b * np.sin(2 * np.pi * v1 * np.arange(samples))\n",
    "    px += b * np.cos(2 * np.pi * v1 * np.arange(samples))\n",
    "\n",
    "    for i in range(1, 5):\n",
    "        x += np.exp(-i) * np.sin(2 * np.pi * v0 * np.arange(samples) * i)\n",
    "        px += np.exp(-i) * np.cos(2 * np.pi * v0 * np.arange(samples) * i)\n",
    "\n",
    "        x += np.exp(-i) * b * np.sin(2 * np.pi * v1 * np.arange(samples) * i)\n",
    "        px += np.exp(-i) * b * np.cos(2 * np.pi * v1 * np.arange(samples) * i)\n",
    "    \n",
    "    return x, px"
   ]
  },
  {
   "cell_type": "code",
   "execution_count": 3,
   "metadata": {},
   "outputs": [],
   "source": [
    "def birkhoff_weights(n):\n",
    "    t = np.arange(n) / (n)\n",
    "    weights = np.exp(-1/(t * (1 - t)))\n",
    "    return weights / np.sum(weights)"
   ]
  },
  {
   "cell_type": "code",
   "execution_count": 4,
   "metadata": {},
   "outputs": [
    {
     "name": "stderr",
     "output_type": "stream",
     "text": [
      "/tmp/ipykernel_14564/2126043834.py:3: RuntimeWarning: divide by zero encountered in true_divide\n",
      "  weights = np.exp(-1/(t * (1 - t)))\n"
     ]
    }
   ],
   "source": [
    "signal_list = 2 ** np.arange(4, 20)\n",
    "val_basic = []\n",
    "val_interp_1 = []\n",
    "val_interp_2 = []\n",
    "on_python = []\n",
    "for samples in signal_list:\n",
    "    x, px = func_signal(samples)\n",
    "    signal = x + 1j * px\n",
    "    fft_basic = np.absolute(np.fft.fft(signal))\n",
    "    val_basic.append((1-np.arange(samples)/samples)[np.argmax(fft_basic)])\n",
    "    v1, v2 = get_tunes(x, px)\n",
    "    val_interp_1.append(v1)\n",
    "    val_interp_2.append(v2)\n",
    "\n",
    "    angles = np.angle(signal)\n",
    "    diff = np.diff(angles)\n",
    "    diff[diff < 0] += 2 * np.pi\n",
    "    diff *= birkhoff_weights(diff.size)\n",
    "    on_python.append(1-np.sum(diff)/(2*np.pi))\n",
    "    \n",
    "\n",
    "val_basic = np.array(val_basic)\n",
    "val_interp_1 = np.array(val_interp_1)\n",
    "val_interp_2 = np.array(val_interp_2)\n",
    "on_python = np.array(on_python)\n",
    "\n",
    "val_basic = np.absolute(val_basic - base_tune)\n",
    "val_interp_1 = np.absolute(val_interp_1 - base_tune)\n",
    "val_interp_2 = np.absolute(val_interp_2 - base_tune)\n",
    "on_python = np.absolute(on_python - base_tune)"
   ]
  },
  {
   "cell_type": "code",
   "execution_count": 5,
   "metadata": {},
   "outputs": [
    {
     "data": {
      "image/png": "[encoded data removed]",
      "text/plain": [
       "<Figure size 432x288 with 1 Axes>"
      ]
     },
     "metadata": {
      "needs_background": "light"
     },
     "output_type": "display_data"
    }
   ],
   "source": [
    "plt.plot(signal_list, val_basic, label='Basic')\n",
    "plt.plot(signal_list, val_interp_1, label='Interp 1')\n",
    "plt.plot(signal_list, val_interp_2, label='Interp 2')\n",
    "plt.plot(signal_list, on_python, label='Python')\n",
    "plt.legend()\n",
    "plt.xscale(\"log\")\n",
    "plt.yscale(\"log\")"
   ]
  },
  {
   "cell_type": "code",
   "execution_count": 6,
   "metadata": {},
   "outputs": [],
   "source": [
    "def hanning(samples):\n",
    "    return 2 * np.power(np.sin(np.pi * np.arange(samples) / samples), 2)"
   ]
  },
  {
   "cell_type": "code",
   "execution_count": 7,
   "metadata": {},
   "outputs": [
    {
     "ename": "NameError",
     "evalue": "name 'index' is not defined",
     "output_type": "error",
     "traceback": [
      "\u001b[0;31m---------------------------------------------------------------------------\u001b[0m",
      "\u001b[0;31mNameError\u001b[0m                                 Traceback (most recent call last)",
      "\u001b[0;32m/tmp/ipykernel_14564/426912310.py\u001b[0m in \u001b[0;36m<module>\u001b[0;34m\u001b[0m\n\u001b[1;32m      1\u001b[0m (\n\u001b[0;32m----> 2\u001b[0;31m         (index / N) + (1 / (2*np.pi)) * np.arcsin(\n\u001b[0m\u001b[1;32m      3\u001b[0m             \u001b[0mA\u001b[0m\u001b[0;34m(\u001b[0m\u001b[0mdata\u001b[0m\u001b[0;34m[\u001b[0m\u001b[0mi1\u001b[0m\u001b[0;34m]\u001b[0m\u001b[0;34m,\u001b[0m \u001b[0mdata\u001b[0m\u001b[0;34m[\u001b[0m\u001b[0mi2\u001b[0m\u001b[0;34m]\u001b[0m\u001b[0;34m,\u001b[0m \u001b[0mnp\u001b[0m\u001b[0;34m.\u001b[0m\u001b[0mcos\u001b[0m\u001b[0;34m(\u001b[0m\u001b[0;36m2\u001b[0m\u001b[0;34m*\u001b[0m\u001b[0mnp\u001b[0m\u001b[0;34m.\u001b[0m\u001b[0mpi\u001b[0m\u001b[0;34m/\u001b[0m\u001b[0mN\u001b[0m\u001b[0;34m)\u001b[0m\u001b[0;34m)\u001b[0m \u001b[0;34m*\u001b[0m \u001b[0mnp\u001b[0m\u001b[0;34m.\u001b[0m\u001b[0msin\u001b[0m\u001b[0;34m(\u001b[0m\u001b[0;36m2\u001b[0m\u001b[0;34m*\u001b[0m\u001b[0mnp\u001b[0m\u001b[0;34m.\u001b[0m\u001b[0mpi\u001b[0m\u001b[0;34m/\u001b[0m\u001b[0mN\u001b[0m\u001b[0;34m)\u001b[0m\u001b[0;34m\u001b[0m\u001b[0;34m\u001b[0m\u001b[0m\n\u001b[1;32m      4\u001b[0m         )\n\u001b[1;32m      5\u001b[0m     )\n",
      "\u001b[0;31mNameError\u001b[0m: name 'index' is not defined"
     ]
    }
   ],
   "source": [
    "(\n",
    "        (index / N) + (1 / (2*np.pi)) * np.arcsin(\n",
    "            A(data[i1], data[i2], np.cos(2*np.pi/N)) * np.sin(2*np.pi/N)\n",
    "        )\n",
    "    )"
   ]
  },
  {
   "cell_type": "code",
   "execution_count": null,
   "metadata": {},
   "outputs": [
    {
     "name": "stdout",
     "output_type": "stream",
     "text": [
      "0.25\n",
      "0.1875\n",
      "0.125\n"
     ]
    }
   ],
   "source": [
    "print(1 - 12/16)\n",
    "print(1 - 13/16)\n",
    "print(1 - 14/16)"
   ]
  },
  {
   "cell_type": "code",
   "execution_count": 8,
   "metadata": {},
   "outputs": [],
   "source": [
    "import henon_map_cpp as hm"
   ]
  },
  {
   "cell_type": "code",
   "execution_count": 27,
   "metadata": {},
   "outputs": [],
   "source": [
    "x = np.linspace(0.1, 0.2, 10000)"
   ]
  },
  {
   "cell_type": "code",
   "execution_count": 28,
   "metadata": {},
   "outputs": [
    {
     "name": "stdout",
     "output_type": "stream",
     "text": [
      "CUDA devices available: 4\n"
     ]
    }
   ],
   "source": [
    "engine = hm.henon_tracker(x, np.zeros_like(x), x, np.zeros_like(x), force_CPU=True)"
   ]
  },
  {
   "cell_type": "code",
   "execution_count": 29,
   "metadata": {},
   "outputs": [],
   "source": [
    "engine.compute_a_modulation(1000000, 0.168, 0.201, 16.0)"
   ]
  },
  {
   "cell_type": "code",
   "execution_count": 30,
   "metadata": {},
   "outputs": [
    {
     "data": {
      "text/plain": [
       "<henon_map_cpp.henon_tracker at 0x7f8703485820>"
      ]
     },
     "execution_count": 30,
     "metadata": {},
     "output_type": "execute_result"
    }
   ],
   "source": [
    "engine"
   ]
  },
  {
   "cell_type": "code",
   "execution_count": 31,
   "metadata": {},
   "outputs": [
    {
     "name": "stdout",
     "output_type": "stream",
     "text": [
      "Starting threads...\n",
      "Returning results...\n"
     ]
    },
    {
     "data": {
      "text/html": [
       "<div>\n",
       "<style scoped>\n",
       "    .dataframe tbody tr th:only-of-type {\n",
       "        vertical-align: middle;\n",
       "    }\n",
       "\n",
       "    .dataframe tbody tr th {\n",
       "        vertical-align: top;\n",
       "    }\n",
       "\n",
       "    .dataframe thead th {\n",
       "        text-align: right;\n",
       "    }\n",
       "</style>\n",
       "<table border=\"1\" class=\"dataframe\">\n",
       "  <thead>\n",
       "    <tr style=\"text-align: right;\">\n",
       "      <th></th>\n",
       "      <th>from</th>\n",
       "      <th>to</th>\n",
       "      <th>tune_x</th>\n",
       "      <th>tune_y</th>\n",
       "    </tr>\n",
       "  </thead>\n",
       "  <tbody>\n",
       "    <tr>\n",
       "      <th>0</th>\n",
       "      <td>0</td>\n",
       "      <td>1000000</td>\n",
       "      <td>[0.16798668246709791, 0.167986675632951, 0.167...</td>\n",
       "      <td>[0.20095955658496545, 0.2009595511009019, 0.20...</td>\n",
       "    </tr>\n",
       "  </tbody>\n",
       "</table>\n",
       "</div>"
      ],
      "text/plain": [
       "  from       to                                             tune_x  \\\n",
       "0    0  1000000  [0.16798668246709791, 0.167986675632951, 0.167...   \n",
       "\n",
       "                                              tune_y  \n",
       "0  [0.20095955658496545, 0.2009595511009019, 0.20...  "
      ]
     },
     "execution_count": 31,
     "metadata": {},
     "output_type": "execute_result"
    }
   ],
   "source": [
    "engine.fft_tunes(1000000, 0.0, 10, 0.0)"
   ]
  },
  {
   "cell_type": "code",
   "execution_count": 33,
   "metadata": {},
   "outputs": [
    {
     "name": "stdout",
     "output_type": "stream",
     "text": [
      "Starting threads...\n",
      "Returning results...\n"
     ]
    },
    {
     "data": {
      "text/html": [
       "<div>\n",
       "<style scoped>\n",
       "    .dataframe tbody tr th:only-of-type {\n",
       "        vertical-align: middle;\n",
       "    }\n",
       "\n",
       "    .dataframe tbody tr th {\n",
       "        vertical-align: top;\n",
       "    }\n",
       "\n",
       "    .dataframe thead th {\n",
       "        text-align: right;\n",
       "    }\n",
       "</style>\n",
       "<table border=\"1\" class=\"dataframe\">\n",
       "  <thead>\n",
       "    <tr style=\"text-align: right;\">\n",
       "      <th></th>\n",
       "      <th>from</th>\n",
       "      <th>to</th>\n",
       "      <th>tune_x</th>\n",
       "      <th>tune_y</th>\n",
       "    </tr>\n",
       "  </thead>\n",
       "  <tbody>\n",
       "    <tr>\n",
       "      <th>0</th>\n",
       "      <td>0</td>\n",
       "      <td>1000000</td>\n",
       "      <td>[0.16798668246708537, 0.1679866756329561, 0.16...</td>\n",
       "      <td>[0.2009595565849639, 0.20095955110089614, 0.20...</td>\n",
       "    </tr>\n",
       "  </tbody>\n",
       "</table>\n",
       "</div>"
      ],
      "text/plain": [
       "  from       to                                             tune_x  \\\n",
       "0    0  1000000  [0.16798668246708537, 0.1679866756329561, 0.16...   \n",
       "\n",
       "                                              tune_y  \n",
       "0  [0.2009595565849639, 0.20095955110089614, 0.20...  "
      ]
     },
     "execution_count": 33,
     "metadata": {},
     "output_type": "execute_result"
    }
   ],
   "source": [
    "engine.reset()\n",
    "engine.birkhoff_tunes(1000000, 0.0, 10, 0.0)"
   ]
  },
  {
   "cell_type": "code",
   "execution_count": null,
   "metadata": {},
   "outputs": [],
   "source": []
  }
 ],
 "metadata": {
  "interpreter": {
   "hash": "5455049208b68e91f64c232221573245e03c497a25b6c398eebf02064b678ef7"
  },
  "kernelspec": {
   "display_name": "Python 3.9.5 ('base')",
   "language": "python",
   "name": "python3"
  },
  "language_info": {
   "codemirror_mode": {
    "name": "ipython",
    "version": 3
   },
   "file_extension": ".py",
   "mimetype": "text/x-python",
   "name": "python",
   "nbconvert_exporter": "python",
   "pygments_lexer": "ipython3",
   "version": "3.9.5"
  },
  "orig_nbformat": 4
 },
 "nbformat": 4,
 "nbformat_minor": 2
}
