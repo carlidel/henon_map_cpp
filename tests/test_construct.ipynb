{
 "cells": [
  {
   "cell_type": "code",
   "execution_count": 1,
   "metadata": {},
   "outputs": [],
   "source": [
    "import numpy as np\n",
    "import henon_map_cpp as hm\n",
    "import matplotlib.pyplot as plt"
   ]
  },
  {
   "cell_type": "code",
   "execution_count": 2,
   "metadata": {},
   "outputs": [
    {
     "name": "stdout",
     "output_type": "stream",
     "text": [
      "Using GPU\n"
     ]
    }
   ],
   "source": [
    "m = hm.matrix_4d_vector(3)"
   ]
  },
  {
   "cell_type": "code",
   "execution_count": 3,
   "metadata": {},
   "outputs": [
    {
     "name": "stdout",
     "output_type": "stream",
     "text": [
      "creating gpu tracker\n"
     ]
    }
   ],
   "source": [
    "t = hm.henon_tracker(1000, 0.168, 0.201, \"sps\")"
   ]
  },
  {
   "cell_type": "code",
   "execution_count": 4,
   "metadata": {},
   "outputs": [],
   "source": [
    "pp = np.array([0.1,0.1,0.1])\n",
    "p = hm.particles(pp, np.zeros(3), pp, np.zeros(3))"
   ]
  },
  {
   "cell_type": "code",
   "execution_count": 39,
   "metadata": {},
   "outputs": [],
   "source": [
    "v = hm.vector_4d(np.array([[1.0,1.0,0.0,0.0] for i in range(3)]))"
   ]
  },
  {
   "cell_type": "code",
   "execution_count": 6,
   "metadata": {},
   "outputs": [
    {
     "data": {
      "text/plain": [
       "array([[[ 0.66676409,  0.87018375, -0.17403675,  0.        ],\n",
       "        [-0.77163829,  0.49272734, -0.09854547,  0.        ],\n",
       "        [-0.19059587,  0.        ,  0.1124394 ,  0.95297934],\n",
       "        [-0.06060705,  0.        , -1.0135864 ,  0.30303527]],\n",
       "\n",
       "       [[ 0.66676409,  0.87018375, -0.17403675,  0.        ],\n",
       "        [-0.77163829,  0.49272734, -0.09854547,  0.        ],\n",
       "        [-0.19059587,  0.        ,  0.1124394 ,  0.95297934],\n",
       "        [-0.06060705,  0.        , -1.0135864 ,  0.30303527]],\n",
       "\n",
       "       [[ 0.66676409,  0.87018375, -0.17403675,  0.        ],\n",
       "        [-0.77163829,  0.49272734, -0.09854547,  0.        ],\n",
       "        [-0.19059587,  0.        ,  0.1124394 ,  0.95297934],\n",
       "        [-0.06060705,  0.        , -1.0135864 ,  0.30303527]]])"
      ]
     },
     "execution_count": 6,
     "metadata": {},
     "output_type": "execute_result"
    }
   ],
   "source": [
    "m.set_with_tracker(t, p, 0.0)\n",
    "m.get_matrix()"
   ]
  },
  {
   "cell_type": "code",
   "execution_count": 7,
   "metadata": {},
   "outputs": [],
   "source": [
    "my_matrix = np.array([[ 0.66676409,  0.87018375, -0.17403675,  0.        ],\n",
    "        [-0.77163829,  0.49272734, -0.09854547,  0.        ],\n",
    "        [-0.19059587,  0.        ,  0.1124394 ,  0.95297934],\n",
    "        [-0.06060705,  0.        , -1.0135864 ,  0.30303527]])"
   ]
  },
  {
   "cell_type": "code",
   "execution_count": 40,
   "metadata": {},
   "outputs": [
    {
     "data": {
      "text/plain": [
       "array([[1., 1., 0., 0.],\n",
       "       [1., 1., 0., 0.],\n",
       "       [1., 1., 0., 0.]])"
      ]
     },
     "execution_count": 40,
     "metadata": {},
     "output_type": "execute_result"
    }
   ],
   "source": [
    "v.get_vectors()"
   ]
  },
  {
   "cell_type": "code",
   "execution_count": 37,
   "metadata": {},
   "outputs": [
    {
     "data": {
      "text/plain": [
       "array([0.00000000e+00, 2.12555128e-04, 2.74552446e-02, 1.21589723e-01,\n",
       "       2.20498423e-01, 2.60488108e-01, 2.20498423e-01, 1.21589723e-01,\n",
       "       2.74552446e-02, 2.12555128e-04])"
      ]
     },
     "execution_count": 37,
     "metadata": {},
     "output_type": "execute_result"
    }
   ],
   "source": [
    "construct = hm.lyapunov_birkhoff_construct(3, 10)\n",
    "construct.change_weights(10)\n",
    "construct.get_weights()"
   ]
  },
  {
   "cell_type": "code",
   "execution_count": 32,
   "metadata": {},
   "outputs": [
    {
     "data": {
      "text/plain": [
       "[<matplotlib.lines.Line2D at 0x7ff7772a0490>]"
      ]
     },
     "execution_count": 32,
     "metadata": {},
     "output_type": "execute_result"
    },
    {
     "data": {
      "image/png": "[encoded data removed]",
      "text/plain": [
       "<Figure size 432x288 with 1 Axes>"
      ]
     },
     "metadata": {
      "needs_background": "light"
     },
     "output_type": "display_data"
    }
   ],
   "source": [
    "plt.plot(construct.get_weights())"
   ]
  },
  {
   "cell_type": "code",
   "execution_count": 11,
   "metadata": {},
   "outputs": [
    {
     "data": {
      "text/plain": [
       "array([[1., 0., 0., 0.],\n",
       "       [1., 0., 0., 0.],\n",
       "       [1., 0., 0., 0.]])"
      ]
     },
     "execution_count": 11,
     "metadata": {},
     "output_type": "execute_result"
    }
   ],
   "source": [
    "v.get_vectors()"
   ]
  },
  {
   "cell_type": "code",
   "execution_count": 12,
   "metadata": {},
   "outputs": [],
   "source": [
    "v.multiply(m)"
   ]
  },
  {
   "cell_type": "code",
   "execution_count": 13,
   "metadata": {},
   "outputs": [
    {
     "name": "stdout",
     "output_type": "stream",
     "text": [
      "[[ 0.66676409 -0.77163829 -0.19059587 -0.06060705]\n",
      " [ 0.66676409 -0.77163829 -0.19059587 -0.06060705]\n",
      " [ 0.66676409 -0.77163829 -0.19059587 -0.06060705]]\n",
      "0.03848052056806427\n",
      "None\n",
      "[[ 0.64159405 -0.74250929 -0.18340096 -0.05831916]\n",
      " [ 0.64159405 -0.74250929 -0.18340096 -0.05831916]\n",
      " [ 0.64159405 -0.74250929 -0.18340096 -0.05831916]]\n",
      "0.9999999999999999\n"
     ]
    }
   ],
   "source": [
    "print(v.get_vectors())\n",
    "print(np.log(np.linalg.norm(v.get_vectors()[0])))\n",
    "print(v.normalize())\n",
    "print(v.get_vectors())\n",
    "print(np.linalg.norm(v.get_vectors()[0]))\n"
   ]
  },
  {
   "cell_type": "code",
   "execution_count": 41,
   "metadata": {},
   "outputs": [
    {
     "data": {
      "text/plain": [
       "array([0.00000000e+00, 2.12555128e-04, 2.74552446e-02, 1.21589723e-01,\n",
       "       2.20498423e-01, 2.60488108e-01, 2.20498423e-01, 1.21589723e-01,\n",
       "       2.74552446e-02, 2.12555128e-04])"
      ]
     },
     "execution_count": 41,
     "metadata": {},
     "output_type": "execute_result"
    }
   ],
   "source": [
    "construct = hm.lyapunov_birkhoff_construct(3, 10)\n",
    "construct.get_weights()"
   ]
  },
  {
   "cell_type": "code",
   "execution_count": 60,
   "metadata": {},
   "outputs": [],
   "source": [
    "construct.add(v)"
   ]
  },
  {
   "cell_type": "code",
   "execution_count": 61,
   "metadata": {},
   "outputs": [
    {
     "name": "stdout",
     "output_type": "stream",
     "text": [
      "[0.34657359 0.34657359 0.34657359]\n",
      "[0.34657359 0.34657359 0.34657359]\n"
     ]
    }
   ],
   "source": [
    "print(construct.get_values_raw())\n",
    "print(construct.get_values_b())"
   ]
  },
  {
   "cell_type": "code",
   "execution_count": 17,
   "metadata": {},
   "outputs": [
    {
     "data": {
      "text/plain": [
       "array([0.00000000e+00, 2.12555128e-04, 2.74552446e-02, 1.21589723e-01,\n",
       "       2.20498423e-01, 2.60488108e-01, 2.20498423e-01, 1.21589723e-01,\n",
       "       2.74552446e-02, 2.12555128e-04])"
      ]
     },
     "execution_count": 17,
     "metadata": {},
     "output_type": "execute_result"
    }
   ],
   "source": [
    "construct = hm.lyapunov_birkhoff_construct(3, 10)\n",
    "construct.get_weights()"
   ]
  },
  {
   "cell_type": "code",
   "execution_count": 18,
   "metadata": {},
   "outputs": [],
   "source": [
    "for i in range(10):\n",
    "    construct.add(v)"
   ]
  },
  {
   "cell_type": "code",
   "execution_count": 19,
   "metadata": {},
   "outputs": [
    {
     "name": "stdout",
     "output_type": "stream",
     "text": [
      "[0. 0. 0.]\n",
      "[0. 0. 0.]\n"
     ]
    }
   ],
   "source": [
    "print(construct.get_values_raw())\n",
    "print(construct.get_values_b())"
   ]
  },
  {
   "cell_type": "code",
   "execution_count": 26,
   "metadata": {},
   "outputs": [],
   "source": [
    "storage = hm.storage_gpu(3, 2)"
   ]
  },
  {
   "cell_type": "code",
   "execution_count": 27,
   "metadata": {},
   "outputs": [],
   "source": [
    "storage.store(p)\n",
    "t.track(p, 1, 0.0)\n",
    "storage.store(p)"
   ]
  },
  {
   "cell_type": "code",
   "execution_count": 29,
   "metadata": {},
   "outputs": [
    {
     "data": {
      "text/plain": [
       "array([[0.1       , 0.1       , 0.1       ],\n",
       "       [0.04927273, 0.04927273, 0.04927273]])"
      ]
     },
     "execution_count": 29,
     "metadata": {},
     "output_type": "execute_result"
    }
   ],
   "source": [
    "storage.get_x()"
   ]
  },
  {
   "cell_type": "code",
   "execution_count": 30,
   "metadata": {},
   "outputs": [
    {
     "data": {
      "text/plain": [
       "array([0.04927273, 0.04927273, 0.04927273])"
      ]
     },
     "execution_count": 30,
     "metadata": {},
     "output_type": "execute_result"
    }
   ],
   "source": [
    "p.get_x()"
   ]
  },
  {
   "cell_type": "code",
   "execution_count": null,
   "metadata": {},
   "outputs": [],
   "source": []
  }
 ],
 "metadata": {
  "kernelspec": {
   "display_name": "Python 3.9.12 ('base')",
   "language": "python",
   "name": "python3"
  },
  "language_info": {
   "codemirror_mode": {
    "name": "ipython",
    "version": 3
   },
   "file_extension": ".py",
   "mimetype": "text/x-python",
   "name": "python",
   "nbconvert_exporter": "python",
   "pygments_lexer": "ipython3",
   "version": "3.9.12"
  },
  "orig_nbformat": 4,
  "vscode": {
   "interpreter": {
    "hash": "f3023bf899be63b57b0092dfcb418df687710750732f0ded6fe0bfa97468ce8c"
   }
  }
 },
 "nbformat": 4,
 "nbformat_minor": 2
}
